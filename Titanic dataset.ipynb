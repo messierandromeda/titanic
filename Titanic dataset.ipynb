{
 "cells": [
  {
   "cell_type": "markdown",
   "id": "231fc700",
   "metadata": {},
   "source": [
    "**Titanic - Machine Learning from Disaster**"
   ]
  },
  {
   "cell_type": "code",
   "execution_count": 1,
   "id": "5b56db8a",
   "metadata": {},
   "outputs": [
    {
     "name": "stdout",
     "output_type": "stream",
     "text": [
      "C:\\Users\\Asus\\Desktop\\titanic-project\n",
      "C:\\Users\\Asus\\Desktop\\titanic-project\\data\\gender_submission.csv\n",
      "C:\\Users\\Asus\\Desktop\\titanic-project\\data\\test.csv\n",
      "C:\\Users\\Asus\\Desktop\\titanic-project\\data\\train.csv\n"
     ]
    }
   ],
   "source": [
    "# importing the required packages\n",
    "\n",
    "import numpy as np\n",
    "import pandas as pd\n",
    "import os\n",
    "\n",
    "path = os.getcwd()   # current working directory\n",
    "current_folder = \"data\"\n",
    "print(os.getcwd())\n",
    "for dirname, _, filenames in os.walk(os.path.join(path,current_folder)):\n",
    "    for filename in filenames:\n",
    "        print(os.path.join(dirname, filename))"
   ]
  },
  {
   "cell_type": "markdown",
   "id": "42e12833",
   "metadata": {},
   "source": [
    "**Looking at some sample train and test data, checking for null values**"
   ]
  },
  {
   "cell_type": "code",
   "execution_count": 2,
   "id": "4b7746e8",
   "metadata": {},
   "outputs": [
    {
     "data": {
      "text/html": [
       "<div>\n",
       "<style scoped>\n",
       "    .dataframe tbody tr th:only-of-type {\n",
       "        vertical-align: middle;\n",
       "    }\n",
       "\n",
       "    .dataframe tbody tr th {\n",
       "        vertical-align: top;\n",
       "    }\n",
       "\n",
       "    .dataframe thead th {\n",
       "        text-align: right;\n",
       "    }\n",
       "</style>\n",
       "<table border=\"1\" class=\"dataframe\">\n",
       "  <thead>\n",
       "    <tr style=\"text-align: right;\">\n",
       "      <th></th>\n",
       "      <th>PassengerId</th>\n",
       "      <th>Survived</th>\n",
       "      <th>Pclass</th>\n",
       "      <th>Name</th>\n",
       "      <th>Sex</th>\n",
       "      <th>Age</th>\n",
       "      <th>SibSp</th>\n",
       "      <th>Parch</th>\n",
       "      <th>Ticket</th>\n",
       "      <th>Fare</th>\n",
       "      <th>Cabin</th>\n",
       "      <th>Embarked</th>\n",
       "    </tr>\n",
       "  </thead>\n",
       "  <tbody>\n",
       "    <tr>\n",
       "      <th>0</th>\n",
       "      <td>1</td>\n",
       "      <td>0</td>\n",
       "      <td>3</td>\n",
       "      <td>Braund, Mr. Owen Harris</td>\n",
       "      <td>male</td>\n",
       "      <td>22.0</td>\n",
       "      <td>1</td>\n",
       "      <td>0</td>\n",
       "      <td>A/5 21171</td>\n",
       "      <td>7.2500</td>\n",
       "      <td>NaN</td>\n",
       "      <td>S</td>\n",
       "    </tr>\n",
       "    <tr>\n",
       "      <th>1</th>\n",
       "      <td>2</td>\n",
       "      <td>1</td>\n",
       "      <td>1</td>\n",
       "      <td>Cumings, Mrs. John Bradley (Florence Briggs Th...</td>\n",
       "      <td>female</td>\n",
       "      <td>38.0</td>\n",
       "      <td>1</td>\n",
       "      <td>0</td>\n",
       "      <td>PC 17599</td>\n",
       "      <td>71.2833</td>\n",
       "      <td>C85</td>\n",
       "      <td>C</td>\n",
       "    </tr>\n",
       "    <tr>\n",
       "      <th>2</th>\n",
       "      <td>3</td>\n",
       "      <td>1</td>\n",
       "      <td>3</td>\n",
       "      <td>Heikkinen, Miss. Laina</td>\n",
       "      <td>female</td>\n",
       "      <td>26.0</td>\n",
       "      <td>0</td>\n",
       "      <td>0</td>\n",
       "      <td>STON/O2. 3101282</td>\n",
       "      <td>7.9250</td>\n",
       "      <td>NaN</td>\n",
       "      <td>S</td>\n",
       "    </tr>\n",
       "    <tr>\n",
       "      <th>3</th>\n",
       "      <td>4</td>\n",
       "      <td>1</td>\n",
       "      <td>1</td>\n",
       "      <td>Futrelle, Mrs. Jacques Heath (Lily May Peel)</td>\n",
       "      <td>female</td>\n",
       "      <td>35.0</td>\n",
       "      <td>1</td>\n",
       "      <td>0</td>\n",
       "      <td>113803</td>\n",
       "      <td>53.1000</td>\n",
       "      <td>C123</td>\n",
       "      <td>S</td>\n",
       "    </tr>\n",
       "    <tr>\n",
       "      <th>4</th>\n",
       "      <td>5</td>\n",
       "      <td>0</td>\n",
       "      <td>3</td>\n",
       "      <td>Allen, Mr. William Henry</td>\n",
       "      <td>male</td>\n",
       "      <td>35.0</td>\n",
       "      <td>0</td>\n",
       "      <td>0</td>\n",
       "      <td>373450</td>\n",
       "      <td>8.0500</td>\n",
       "      <td>NaN</td>\n",
       "      <td>S</td>\n",
       "    </tr>\n",
       "  </tbody>\n",
       "</table>\n",
       "</div>"
      ],
      "text/plain": [
       "   PassengerId  Survived  Pclass  \\\n",
       "0            1         0       3   \n",
       "1            2         1       1   \n",
       "2            3         1       3   \n",
       "3            4         1       1   \n",
       "4            5         0       3   \n",
       "\n",
       "                                                Name     Sex   Age  SibSp  \\\n",
       "0                            Braund, Mr. Owen Harris    male  22.0      1   \n",
       "1  Cumings, Mrs. John Bradley (Florence Briggs Th...  female  38.0      1   \n",
       "2                             Heikkinen, Miss. Laina  female  26.0      0   \n",
       "3       Futrelle, Mrs. Jacques Heath (Lily May Peel)  female  35.0      1   \n",
       "4                           Allen, Mr. William Henry    male  35.0      0   \n",
       "\n",
       "   Parch            Ticket     Fare Cabin Embarked  \n",
       "0      0         A/5 21171   7.2500   NaN        S  \n",
       "1      0          PC 17599  71.2833   C85        C  \n",
       "2      0  STON/O2. 3101282   7.9250   NaN        S  \n",
       "3      0            113803  53.1000  C123        S  \n",
       "4      0            373450   8.0500   NaN        S  "
      ]
     },
     "execution_count": 2,
     "metadata": {},
     "output_type": "execute_result"
    }
   ],
   "source": [
    "# Loading training data\n",
    "train_data = pd.read_csv(os.path.join(path,\"data/train.csv\"))\n",
    "train_data.head()"
   ]
  },
  {
   "cell_type": "code",
   "execution_count": 3,
   "id": "54d70a43",
   "metadata": {},
   "outputs": [
    {
     "data": {
      "text/html": [
       "<div>\n",
       "<style scoped>\n",
       "    .dataframe tbody tr th:only-of-type {\n",
       "        vertical-align: middle;\n",
       "    }\n",
       "\n",
       "    .dataframe tbody tr th {\n",
       "        vertical-align: top;\n",
       "    }\n",
       "\n",
       "    .dataframe thead th {\n",
       "        text-align: right;\n",
       "    }\n",
       "</style>\n",
       "<table border=\"1\" class=\"dataframe\">\n",
       "  <thead>\n",
       "    <tr style=\"text-align: right;\">\n",
       "      <th></th>\n",
       "      <th>PassengerId</th>\n",
       "      <th>Pclass</th>\n",
       "      <th>Name</th>\n",
       "      <th>Sex</th>\n",
       "      <th>Age</th>\n",
       "      <th>SibSp</th>\n",
       "      <th>Parch</th>\n",
       "      <th>Ticket</th>\n",
       "      <th>Fare</th>\n",
       "      <th>Cabin</th>\n",
       "      <th>Embarked</th>\n",
       "    </tr>\n",
       "  </thead>\n",
       "  <tbody>\n",
       "    <tr>\n",
       "      <th>0</th>\n",
       "      <td>892</td>\n",
       "      <td>3</td>\n",
       "      <td>Kelly, Mr. James</td>\n",
       "      <td>male</td>\n",
       "      <td>34.5</td>\n",
       "      <td>0</td>\n",
       "      <td>0</td>\n",
       "      <td>330911</td>\n",
       "      <td>7.8292</td>\n",
       "      <td>NaN</td>\n",
       "      <td>Q</td>\n",
       "    </tr>\n",
       "    <tr>\n",
       "      <th>1</th>\n",
       "      <td>893</td>\n",
       "      <td>3</td>\n",
       "      <td>Wilkes, Mrs. James (Ellen Needs)</td>\n",
       "      <td>female</td>\n",
       "      <td>47.0</td>\n",
       "      <td>1</td>\n",
       "      <td>0</td>\n",
       "      <td>363272</td>\n",
       "      <td>7.0000</td>\n",
       "      <td>NaN</td>\n",
       "      <td>S</td>\n",
       "    </tr>\n",
       "    <tr>\n",
       "      <th>2</th>\n",
       "      <td>894</td>\n",
       "      <td>2</td>\n",
       "      <td>Myles, Mr. Thomas Francis</td>\n",
       "      <td>male</td>\n",
       "      <td>62.0</td>\n",
       "      <td>0</td>\n",
       "      <td>0</td>\n",
       "      <td>240276</td>\n",
       "      <td>9.6875</td>\n",
       "      <td>NaN</td>\n",
       "      <td>Q</td>\n",
       "    </tr>\n",
       "    <tr>\n",
       "      <th>3</th>\n",
       "      <td>895</td>\n",
       "      <td>3</td>\n",
       "      <td>Wirz, Mr. Albert</td>\n",
       "      <td>male</td>\n",
       "      <td>27.0</td>\n",
       "      <td>0</td>\n",
       "      <td>0</td>\n",
       "      <td>315154</td>\n",
       "      <td>8.6625</td>\n",
       "      <td>NaN</td>\n",
       "      <td>S</td>\n",
       "    </tr>\n",
       "    <tr>\n",
       "      <th>4</th>\n",
       "      <td>896</td>\n",
       "      <td>3</td>\n",
       "      <td>Hirvonen, Mrs. Alexander (Helga E Lindqvist)</td>\n",
       "      <td>female</td>\n",
       "      <td>22.0</td>\n",
       "      <td>1</td>\n",
       "      <td>1</td>\n",
       "      <td>3101298</td>\n",
       "      <td>12.2875</td>\n",
       "      <td>NaN</td>\n",
       "      <td>S</td>\n",
       "    </tr>\n",
       "  </tbody>\n",
       "</table>\n",
       "</div>"
      ],
      "text/plain": [
       "   PassengerId  Pclass                                          Name     Sex  \\\n",
       "0          892       3                              Kelly, Mr. James    male   \n",
       "1          893       3              Wilkes, Mrs. James (Ellen Needs)  female   \n",
       "2          894       2                     Myles, Mr. Thomas Francis    male   \n",
       "3          895       3                              Wirz, Mr. Albert    male   \n",
       "4          896       3  Hirvonen, Mrs. Alexander (Helga E Lindqvist)  female   \n",
       "\n",
       "    Age  SibSp  Parch   Ticket     Fare Cabin Embarked  \n",
       "0  34.5      0      0   330911   7.8292   NaN        Q  \n",
       "1  47.0      1      0   363272   7.0000   NaN        S  \n",
       "2  62.0      0      0   240276   9.6875   NaN        Q  \n",
       "3  27.0      0      0   315154   8.6625   NaN        S  \n",
       "4  22.0      1      1  3101298  12.2875   NaN        S  "
      ]
     },
     "execution_count": 3,
     "metadata": {},
     "output_type": "execute_result"
    }
   ],
   "source": [
    "test_data = pd.read_csv(os.path.join(path,\"data/test.csv\"))\n",
    "test_data.head()"
   ]
  },
  {
   "cell_type": "code",
   "execution_count": 4,
   "id": "a21cde7b",
   "metadata": {},
   "outputs": [
    {
     "name": "stdout",
     "output_type": "stream",
     "text": [
      "<class 'pandas.core.frame.DataFrame'>\n",
      "RangeIndex: 891 entries, 0 to 890\n",
      "Data columns (total 12 columns):\n",
      " #   Column       Non-Null Count  Dtype  \n",
      "---  ------       --------------  -----  \n",
      " 0   PassengerId  891 non-null    int64  \n",
      " 1   Survived     891 non-null    int64  \n",
      " 2   Pclass       891 non-null    int64  \n",
      " 3   Name         891 non-null    object \n",
      " 4   Sex          891 non-null    object \n",
      " 5   Age          714 non-null    float64\n",
      " 6   SibSp        891 non-null    int64  \n",
      " 7   Parch        891 non-null    int64  \n",
      " 8   Ticket       891 non-null    object \n",
      " 9   Fare         891 non-null    float64\n",
      " 10  Cabin        204 non-null    object \n",
      " 11  Embarked     889 non-null    object \n",
      "dtypes: float64(2), int64(5), object(5)\n",
      "memory usage: 83.7+ KB\n"
     ]
    }
   ],
   "source": [
    "train_data.info()  "
   ]
  },
  {
   "cell_type": "code",
   "execution_count": 5,
   "id": "44b3dd8f",
   "metadata": {},
   "outputs": [
    {
     "data": {
      "text/html": [
       "<div>\n",
       "<style scoped>\n",
       "    .dataframe tbody tr th:only-of-type {\n",
       "        vertical-align: middle;\n",
       "    }\n",
       "\n",
       "    .dataframe tbody tr th {\n",
       "        vertical-align: top;\n",
       "    }\n",
       "\n",
       "    .dataframe thead th {\n",
       "        text-align: right;\n",
       "    }\n",
       "</style>\n",
       "<table border=\"1\" class=\"dataframe\">\n",
       "  <thead>\n",
       "    <tr style=\"text-align: right;\">\n",
       "      <th></th>\n",
       "      <th>PassengerId</th>\n",
       "      <th>Survived</th>\n",
       "      <th>Pclass</th>\n",
       "      <th>Age</th>\n",
       "      <th>SibSp</th>\n",
       "      <th>Parch</th>\n",
       "      <th>Fare</th>\n",
       "    </tr>\n",
       "  </thead>\n",
       "  <tbody>\n",
       "    <tr>\n",
       "      <th>count</th>\n",
       "      <td>891.000000</td>\n",
       "      <td>891.000000</td>\n",
       "      <td>891.000000</td>\n",
       "      <td>714.000000</td>\n",
       "      <td>891.000000</td>\n",
       "      <td>891.000000</td>\n",
       "      <td>891.000000</td>\n",
       "    </tr>\n",
       "    <tr>\n",
       "      <th>mean</th>\n",
       "      <td>446.000000</td>\n",
       "      <td>0.383838</td>\n",
       "      <td>2.308642</td>\n",
       "      <td>29.699118</td>\n",
       "      <td>0.523008</td>\n",
       "      <td>0.381594</td>\n",
       "      <td>32.204208</td>\n",
       "    </tr>\n",
       "    <tr>\n",
       "      <th>std</th>\n",
       "      <td>257.353842</td>\n",
       "      <td>0.486592</td>\n",
       "      <td>0.836071</td>\n",
       "      <td>14.526497</td>\n",
       "      <td>1.102743</td>\n",
       "      <td>0.806057</td>\n",
       "      <td>49.693429</td>\n",
       "    </tr>\n",
       "    <tr>\n",
       "      <th>min</th>\n",
       "      <td>1.000000</td>\n",
       "      <td>0.000000</td>\n",
       "      <td>1.000000</td>\n",
       "      <td>0.420000</td>\n",
       "      <td>0.000000</td>\n",
       "      <td>0.000000</td>\n",
       "      <td>0.000000</td>\n",
       "    </tr>\n",
       "    <tr>\n",
       "      <th>25%</th>\n",
       "      <td>223.500000</td>\n",
       "      <td>0.000000</td>\n",
       "      <td>2.000000</td>\n",
       "      <td>20.125000</td>\n",
       "      <td>0.000000</td>\n",
       "      <td>0.000000</td>\n",
       "      <td>7.910400</td>\n",
       "    </tr>\n",
       "    <tr>\n",
       "      <th>50%</th>\n",
       "      <td>446.000000</td>\n",
       "      <td>0.000000</td>\n",
       "      <td>3.000000</td>\n",
       "      <td>28.000000</td>\n",
       "      <td>0.000000</td>\n",
       "      <td>0.000000</td>\n",
       "      <td>14.454200</td>\n",
       "    </tr>\n",
       "    <tr>\n",
       "      <th>75%</th>\n",
       "      <td>668.500000</td>\n",
       "      <td>1.000000</td>\n",
       "      <td>3.000000</td>\n",
       "      <td>38.000000</td>\n",
       "      <td>1.000000</td>\n",
       "      <td>0.000000</td>\n",
       "      <td>31.000000</td>\n",
       "    </tr>\n",
       "    <tr>\n",
       "      <th>max</th>\n",
       "      <td>891.000000</td>\n",
       "      <td>1.000000</td>\n",
       "      <td>3.000000</td>\n",
       "      <td>80.000000</td>\n",
       "      <td>8.000000</td>\n",
       "      <td>6.000000</td>\n",
       "      <td>512.329200</td>\n",
       "    </tr>\n",
       "  </tbody>\n",
       "</table>\n",
       "</div>"
      ],
      "text/plain": [
       "       PassengerId    Survived      Pclass         Age       SibSp  \\\n",
       "count   891.000000  891.000000  891.000000  714.000000  891.000000   \n",
       "mean    446.000000    0.383838    2.308642   29.699118    0.523008   \n",
       "std     257.353842    0.486592    0.836071   14.526497    1.102743   \n",
       "min       1.000000    0.000000    1.000000    0.420000    0.000000   \n",
       "25%     223.500000    0.000000    2.000000   20.125000    0.000000   \n",
       "50%     446.000000    0.000000    3.000000   28.000000    0.000000   \n",
       "75%     668.500000    1.000000    3.000000   38.000000    1.000000   \n",
       "max     891.000000    1.000000    3.000000   80.000000    8.000000   \n",
       "\n",
       "            Parch        Fare  \n",
       "count  891.000000  891.000000  \n",
       "mean     0.381594   32.204208  \n",
       "std      0.806057   49.693429  \n",
       "min      0.000000    0.000000  \n",
       "25%      0.000000    7.910400  \n",
       "50%      0.000000   14.454200  \n",
       "75%      0.000000   31.000000  \n",
       "max      6.000000  512.329200  "
      ]
     },
     "execution_count": 5,
     "metadata": {},
     "output_type": "execute_result"
    }
   ],
   "source": [
    "train_data.describe()"
   ]
  },
  {
   "cell_type": "markdown",
   "id": "026af645",
   "metadata": {},
   "source": [
    "In the columns Age, Cabin and Embarked there are missing values. In the Age column I decided to replace the empty values with the average age. "
   ]
  },
  {
   "cell_type": "code",
   "execution_count": 6,
   "id": "404ab72f",
   "metadata": {},
   "outputs": [
    {
     "data": {
      "text/plain": [
       "B96 B98        4\n",
       "G6             4\n",
       "C23 C25 C27    4\n",
       "C22 C26        3\n",
       "F33            3\n",
       "              ..\n",
       "E34            1\n",
       "C7             1\n",
       "C54            1\n",
       "E36            1\n",
       "C148           1\n",
       "Name: Cabin, Length: 147, dtype: int64"
      ]
     },
     "execution_count": 6,
     "metadata": {},
     "output_type": "execute_result"
    }
   ],
   "source": [
    "train_data[\"Cabin\"].value_counts(normalize=False)    # there are too many missing values here"
   ]
  },
  {
   "cell_type": "code",
   "execution_count": 7,
   "id": "083ec1f4",
   "metadata": {},
   "outputs": [
    {
     "data": {
      "text/plain": [
       "S    644\n",
       "C    168\n",
       "Q     77\n",
       "Name: Embarked, dtype: int64"
      ]
     },
     "execution_count": 7,
     "metadata": {},
     "output_type": "execute_result"
    }
   ],
   "source": [
    "train_data[\"Embarked\"].value_counts()"
   ]
  },
  {
   "cell_type": "code",
   "execution_count": 8,
   "id": "c16c9aaf",
   "metadata": {},
   "outputs": [
    {
     "data": {
      "text/plain": [
       "0    0.616162\n",
       "1    0.383838\n",
       "Name: Survived, dtype: float64"
      ]
     },
     "execution_count": 8,
     "metadata": {},
     "output_type": "execute_result"
    }
   ],
   "source": [
    "train_data[\"Survived\"].value_counts(normalize=True)   # 38.4% survival rate"
   ]
  },
  {
   "cell_type": "code",
   "execution_count": 9,
   "id": "5a65b980",
   "metadata": {},
   "outputs": [
    {
     "name": "stdout",
     "output_type": "stream",
     "text": [
      "% of women who survived: 0.7420382165605095\n"
     ]
    }
   ],
   "source": [
    "women = train_data.loc[train_data.Sex == 'female'][\"Survived\"]\n",
    "rate_women = sum(women)/len(women)\n",
    "\n",
    "print(\"% of women who survived:\", rate_women)"
   ]
  },
  {
   "cell_type": "code",
   "execution_count": 10,
   "id": "79570d6a",
   "metadata": {},
   "outputs": [
    {
     "name": "stdout",
     "output_type": "stream",
     "text": [
      "% of men who survived: 0.18890814558058924\n"
     ]
    }
   ],
   "source": [
    "men = train_data.loc[train_data.Sex == 'male'][\"Survived\"]\n",
    "rate_men = sum(men)/len(men)\n",
    "\n",
    "print(\"% of men who survived:\", rate_men)"
   ]
  },
  {
   "cell_type": "code",
   "execution_count": 11,
   "id": "97506621",
   "metadata": {},
   "outputs": [
    {
     "name": "stdout",
     "output_type": "stream",
     "text": [
      "There are 0 missing values in the train_data.Age column\n",
      "There are 0 missing values in the test_data.Age column\n"
     ]
    }
   ],
   "source": [
    "from sklearn.ensemble import RandomForestClassifier\n",
    "\n",
    "# Find the median age and replace the missing values for the training data\n",
    "median_age = train_data[\"Age\"].median()\n",
    "#print(median_age)\n",
    "\n",
    "train_data[\"Age\"].fillna(median_age, inplace=True)\n",
    "\n",
    "# Do the same for the test data\n",
    "median_age_test = test_data[\"Age\"].median()\n",
    "test_data[\"Age\"].fillna(median_age_test, inplace=True)\n",
    "\n",
    "# the attributes that we're using to predict the survival, because not every attribute is relevant\n",
    "features = [\"Pclass\", \"Sex\", \"SibSp\", \"Parch\", \"Age\"] \n",
    "\n",
    "# This is especially important for the column \"Sex\", where the female and male labels are changed to 0 and 1\n",
    "X = pd.get_dummies(train_data[features])  \n",
    "X_test = pd.get_dummies(test_data[features])\n",
    "\n",
    "# Just making sure that now there are no missing values in the Age column\n",
    "print(\"There are %d missing values in the train_data.Age column\" % X[\"Age\"].isnull().sum())\n",
    "print(\"There are %d missing values in the test_data.Age column\" % X_test[\"Age\"].isnull().sum())\n",
    "\n",
    "y = train_data[\"Survived\"]   # The target attribute that we're predicting: 0 - not survived, 1 - survived"
   ]
  },
  {
   "cell_type": "markdown",
   "id": "855013cc",
   "metadata": {},
   "source": [
    "**Graphing the data**"
   ]
  },
  {
   "cell_type": "code",
   "execution_count": 12,
   "id": "39bb3b30",
   "metadata": {},
   "outputs": [
    {
     "data": {
      "image/png": "[encoded data removed]",
      "text/plain": [
       "<Figure size 640x480 with 1 Axes>"
      ]
     },
     "metadata": {},
     "output_type": "display_data"
    }
   ],
   "source": [
    "# Pclass vs. survival\n",
    "\n",
    "import matplotlib.pyplot as plt\n",
    "\n",
    "x = train_data[\"Pclass\"][train_data.Survived == 0].value_counts().sort_index()\n",
    "pclass1_n = x.values[0]\n",
    "pclass2_n = x.values[1]\n",
    "pclass3_n = x.values[2]\n",
    "\n",
    "z = train_data[\"Pclass\"][train_data.Survived == 1].value_counts().sort_index()\n",
    "pclass1_y = z.values[0]\n",
    "pclass2_y = z.values[1]\n",
    "pclass3_y = z.values[2]\n",
    "\n",
    "max_value = max(x.values[0], x.values[1], x.values[2], x.values[0], x.values[1], x.values[2])\n",
    "\n",
    "# plotting the data above\n",
    "\n",
    "categories = (\"Survived\", \"Didn't survive\")\n",
    "classes = {\n",
    "    'Pclass 1': (pclass1_y, pclass1_n),\n",
    "    'Pclass 2': (pclass2_y, pclass2_n),\n",
    "    'Pclass 3': (pclass3_y, pclass3_n),\n",
    "}\n",
    "\n",
    "x = np.arange(len(categories))  # the label locations \n",
    "width = 0.25  # the width of the bars\n",
    "multiplier = 0\n",
    "\n",
    "fig, ax = plt.subplots(layout='constrained')\n",
    "\n",
    "for attribute, measurement in classes.items():   # attribute: labels, measurement: the values themselves\n",
    "    offset = width * multiplier   \n",
    "    rects = ax.bar(x + offset, measurement, width, label=attribute)  \n",
    "    ax.bar_label(rects, padding=3) \n",
    "    multiplier += 1  \n",
    "\n",
    "# Add some text for labels, title and custom x-axis tick labels, etc.\n",
    "ax.set_ylabel('Number of people')\n",
    "ax.set_title('Survival in each class')\n",
    "ax.set_xticks(x + width, categories)   \n",
    "ax.legend(loc='upper left', ncols=3)\n",
    "ax.set_ylim(0, max_value + 30)\n",
    "plt.show()"
   ]
  },
  {
   "cell_type": "code",
   "execution_count": 13,
   "id": "43c93ddf",
   "metadata": {},
   "outputs": [
    {
     "data": {
      "image/png": "[encoded data removed]",
      "text/plain": [
       "<Figure size 640x480 with 1 Axes>"
      ]
     },
     "metadata": {},
     "output_type": "display_data"
    }
   ],
   "source": [
    "# Sex vs. survival\n",
    "\n",
    "import matplotlib.pyplot as plt\n",
    "\n",
    "x = train_data[\"Sex\"][train_data.Survived == 0].value_counts().sort_index()\n",
    "f_not_survived = x.values[0]\n",
    "m_not_survived = x.values[1]\n",
    "\n",
    "z = train_data[\"Sex\"][train_data.Survived == 1].value_counts().sort_index()\n",
    "f_survived = z.values[0]\n",
    "m_survived = z.values[1]\n",
    "\n",
    "max_value = max(f_not_survived, m_not_survived, f_survived, m_survived)\n",
    "\n",
    "# plotting the data above\n",
    "\n",
    "categories = (\"Survived\", \"Didn't survive\")\n",
    "classes = {\n",
    "    'Female': (f_survived, f_not_survived),\n",
    "    'Male': (m_survived, m_not_survived),\n",
    "}\n",
    "\n",
    "x = np.arange(len(categories))  # the label locations \n",
    "width = 0.3  # the width of the bars\n",
    "multiplier = 0\n",
    "\n",
    "fig, ax = plt.subplots(layout='constrained')\n",
    "\n",
    "for attribute, measurement in classes.items():   # attribute: labels, measurement: the values themselves\n",
    "    offset = width * multiplier   \n",
    "    rects = ax.bar(x + offset, measurement, width, label=attribute)  \n",
    "    ax.bar_label(rects, padding=2) \n",
    "    multiplier += 1  \n",
    "\n",
    "# Add some text for labels, title and custom x-axis tick labels, etc.\n",
    "ax.set_ylabel('Number of people')\n",
    "ax.set_title('Survival by gender')\n",
    "ax.set_xticks(x + width/2, categories)   \n",
    "ax.legend(loc='upper left', ncols=3)\n",
    "ax.set_ylim(0, max_value + 30)\n",
    "plt.show()"
   ]
  },
  {
   "cell_type": "code",
   "execution_count": 14,
   "id": "b9951b01",
   "metadata": {},
   "outputs": [
    {
     "data": {
      "text/plain": [
       "<matplotlib.legend.Legend at 0x1a1f3219e20>"
      ]
     },
     "execution_count": 14,
     "metadata": {},
     "output_type": "execute_result"
    },
    {
     "data": {
      "image/png": "[encoded data removed]",
      "text/plain": [
       "<Figure size 1000x500 with 1 Axes>"
      ]
     },
     "metadata": {},
     "output_type": "display_data"
    }
   ],
   "source": [
    "# SibSp vs. Survival\n",
    "\n",
    "from collections import Counter\n",
    "\n",
    "num_people_survived = Counter(train_data[\"SibSp\"][train_data.Survived == 1])\n",
    "num_people_n_survived = Counter(train_data[\"SibSp\"][train_data.Survived == 0])\n",
    "to_dict = dict(sorted(num_people_survived.items()))   # converting Counter to dictionary data type\n",
    "to_dict_1 = dict(sorted(num_people_n_survived.items()))\n",
    "\n",
    "N = 9  # number of bars\n",
    "\n",
    "def complete_dict(my_dict, begin_at=0, stops_at=N):  \n",
    "    for key in range(begin_at, stops_at): \n",
    "        if key not in my_dict.keys():\n",
    "            my_dict[key] = 0\n",
    "    return my_dict\n",
    "\n",
    "zeros = complete_dict(to_dict_1)\n",
    "sorted_dict = dict(sorted(zeros.items()))\n",
    "#print(sorted_dict)\n",
    "\n",
    "zeros_ = complete_dict(to_dict)\n",
    "sorted_dict_ = dict(sorted(zeros_.items()))\n",
    "#print(sorted_dict_)\n",
    "\n",
    "survived = sorted_dict_.values()\n",
    "didnt_survive = sorted_dict.values()\n",
    "\n",
    "# Position of bars on x-axis\n",
    "ind = np.arange(N)\n",
    "\n",
    "plt.figure(figsize=(10,5))\n",
    "\n",
    "width = 0.3       \n",
    "\n",
    "# Plotting\n",
    "plt.bar(ind, survived , width, label='Survived')\n",
    "plt.bar(ind + width, didnt_survive, width, label='Not survived')\n",
    "\n",
    "plt.xlabel('SibSp')\n",
    "plt.ylabel('Number of people')\n",
    "plt.title('Number of siblings and/or spouses vs. Survival')\n",
    "\n",
    "# First argument - A list of positions at which ticks should be placed\n",
    "# Second argument -  A list of labels to place at the given locations\n",
    "plt.xticks(ind + width / 2, (i for i in range(N)))\n",
    "\n",
    "plt.legend(loc='best')   # best place to place the legend\n",
    "\n",
    "# We can see that most people who travelled on the titanic didn't have siblings or spouses and most of them (about 2/3) didn't survive...\n",
    "# If the value of SibSp >= 1, it's 50/50 chance."
   ]
  },
  {
   "cell_type": "code",
   "execution_count": 15,
   "id": "f43f7860",
   "metadata": {},
   "outputs": [
    {
     "data": {
      "text/plain": [
       "<matplotlib.legend.Legend at 0x1a1f32d4100>"
      ]
     },
     "execution_count": 15,
     "metadata": {},
     "output_type": "execute_result"
    },
    {
     "data": {
      "image/png": "[encoded data removed]",
      "text/plain": [
       "<Figure size 1000x500 with 1 Axes>"
      ]
     },
     "metadata": {},
     "output_type": "display_data"
    }
   ],
   "source": [
    "# Parch vs. Survival\n",
    "\n",
    "from collections import Counter\n",
    "\n",
    "num_people_survived = Counter(train_data[\"Parch\"][train_data.Survived == 1])\n",
    "num_people_n_survived = Counter(train_data[\"Parch\"][train_data.Survived == 0])\n",
    "to_dict = dict(sorted(num_people_survived.items()))   # converting Counter to dictionary data type\n",
    "to_dict_1 = dict(sorted(num_people_n_survived.items()))\n",
    "\n",
    "N = 7  # number of bars\n",
    "\n",
    "def complete_dict(my_dict, begin_at=0, stops_at=N):  \n",
    "    for key in range(begin_at, stops_at): \n",
    "        if key not in my_dict.keys():\n",
    "            my_dict[key] = 0\n",
    "    return my_dict\n",
    "\n",
    "zeros = complete_dict(to_dict_1)\n",
    "sorted_dict = dict(sorted(zeros.items()))\n",
    "#print(sorted_dict)\n",
    "\n",
    "zeros_ = complete_dict(to_dict)\n",
    "sorted_dict_ = dict(sorted(zeros_.items()))\n",
    "#print(sorted_dict_)\n",
    "\n",
    "survived = sorted_dict_.values()\n",
    "didnt_survive = sorted_dict.values()\n",
    "\n",
    "# Position of bars on x-axis\n",
    "ind = np.arange(N)\n",
    "\n",
    "plt.figure(figsize=(10,5))\n",
    "\n",
    "width = 0.3       \n",
    "\n",
    "# Plotting\n",
    "plt.bar(ind, survived, width, label='Survived')\n",
    "plt.bar(ind + width, didnt_survive, width, label='Not survived')\n",
    "\n",
    "plt.xlabel('Parch')\n",
    "plt.ylabel('Number of people')\n",
    "plt.title('Number of parents and/or children vs. Survival')\n",
    "\n",
    "# First argument - A list of positions at which ticks should be placed\n",
    "# Second argument -  A list of labels to place at the given locations\n",
    "plt.xticks(ind + width / 2, (i for i in range(N)))\n",
    "\n",
    "plt.legend(loc='best') "
   ]
  },
  {
   "cell_type": "code",
   "execution_count": 16,
   "id": "41a815e1",
   "metadata": {},
   "outputs": [
    {
     "data": {
      "image/png": "[encoded data removed]",
      "text/plain": [
       "<Figure size 640x480 with 1 Axes>"
      ]
     },
     "metadata": {},
     "output_type": "display_data"
    },
    {
     "data": {
      "text/plain": [
       "<Figure size 1600x600 with 0 Axes>"
      ]
     },
     "metadata": {},
     "output_type": "display_data"
    }
   ],
   "source": [
    "# Age vs. Survival \n",
    "\n",
    "num_people_survived = Counter(train_data[\"Age\"][train_data.Survived == 1])\n",
    "num_people_n_survived = Counter(train_data[\"Age\"][train_data.Survived == 0])\n",
    "to_dict = dict(sorted(num_people_survived.items()))   # converting Counter to dictionary data type\n",
    "to_dict_1 = dict(sorted(num_people_n_survived.items()))\n",
    "\n",
    "# finding the maximum value in a dictionary\n",
    "max_value = max(to_dict.values())\n",
    "max_value_1 = max(to_dict_1.values())\n",
    "maximum = max(max_value, max_value_1)\n",
    "\n",
    "fig, ax = plt.subplots(layout='constrained')\n",
    "plt.figure(figsize=(16,6))\n",
    "ax.set_title(\"Age vs. Survival\")\n",
    "ax.set_xlabel(\"Age\")\n",
    "ax.set_ylabel(\"Number of people\")\n",
    "ax.set_xlim((0,80))  \n",
    "ax.set_ylim(0,maximum+10)\n",
    "\n",
    "ax.plot(to_dict.keys(), to_dict.values(), label=\"Survived\") \n",
    "ax.plot(to_dict_1.keys(), to_dict_1.values(), label=\"Not survived\") \n",
    "ax.legend(loc=\"upper right\")  \n",
    "plt.show()"
   ]
  },
  {
   "cell_type": "code",
   "execution_count": 17,
   "id": "358eafd4",
   "metadata": {},
   "outputs": [],
   "source": [
    "# Hyperparameter tuning with grid search\n",
    "from sklearn.model_selection import GridSearchCV\n",
    "param_grid = [\n",
    "    {'n_estimators': [50, 100, 150, 200, 250], 'max_features': [2,4,6,8], 'max_depth': [4,5,6,7,8],\n",
    "    'min_samples_leaf': [1, 5, 10, 15, 20]}   # minimum number of leafs required to split an internal node.\n",
    "]\n",
    "\n",
    "forest_reg = RandomForestClassifier()\n",
    "grid_search = GridSearchCV(forest_reg, param_grid, cv=3, scoring=\"neg_mean_squared_error\", return_train_score=True)"
   ]
  },
  {
   "cell_type": "code",
   "execution_count": 18,
   "id": "ab8cc980",
   "metadata": {},
   "outputs": [
    {
     "name": "stdout",
     "output_type": "stream",
     "text": [
      "{'max_depth': 4, 'max_features': 4, 'min_samples_leaf': 1, 'n_estimators': 100}\n",
      "RandomForestClassifier(max_depth=4, max_features=4)\n"
     ]
    }
   ],
   "source": [
    "grid_search.fit(X,y)\n",
    "print(grid_search.best_params_)\n",
    "print(grid_search.best_estimator_)   # the best_estimator_ overfits the dataset\n",
    "\n",
    "cvres = grid_search.cv_results_\n",
    "\n",
    "# printing out the score of every single combination in grid search\n",
    "#for mean_score, params in zip(cvres[\"mean_test_score\"], cvres[\"params\"]):\n",
    " #   print(np.sqrt(-mean_score), params)"
   ]
  },
  {
   "cell_type": "code",
   "execution_count": 19,
   "id": "2fab98eb",
   "metadata": {},
   "outputs": [
    {
     "name": "stdout",
     "output_type": "stream",
     "text": [
      "The prediction is 82.83% accurate on the training set.\n",
      "Your submission was successfully saved!\n"
     ]
    }
   ],
   "source": [
    "# 77.99% accuracy with random_state=10, highest accuracy without a random_state: 78.468% \n",
    "model = RandomForestClassifier(max_depth=4, max_features=2, min_samples_leaf=3, n_estimators=100, random_state=10)   # random_state for reproducible results\n",
    "model.fit(X, y)  \n",
    "\n",
    "predictions_train = model.predict(X) \n",
    "predictions = model.predict(X_test)\n",
    "\n",
    "# checking the accuracy on the training set of the random forest model\n",
    "counter = 0\n",
    "for i in range(len(train_data)):\n",
    "    if train_data[\"Survived\"][i] == predictions_train[i]:\n",
    "        counter += 1\n",
    "\n",
    "accuracy = counter / len(train_data)\n",
    "\n",
    "print(\"The prediction is %.2f%% accurate on the training set.\" % (accuracy*100))\n",
    "\n",
    "# Exporting the predictions of the training data to a csv file\n",
    "#output_train = pd.DataFrame({\"PassengerId\": train_data.PassengerId, \"Survived\": predictions_train})\n",
    "#output_train.to_csv(\"train_result.csv\", index=False)\n",
    "\n",
    "# Writing the prediction result to a csv file (the previous csv file has to be closed, otherwise there will be an error)\n",
    "output = pd.DataFrame({'PassengerId': test_data.PassengerId, 'Survived': predictions})  # We only want two columns: PassengerID and Survived\n",
    "output.to_csv('submission.csv', index=False) \n",
    "print(\"Your submission was successfully saved!\")"
   ]
  },
  {
   "cell_type": "code",
   "execution_count": 20,
   "id": "54c830c2",
   "metadata": {},
   "outputs": [
    {
     "name": "stdout",
     "output_type": "stream",
     "text": [
      "[[492  96]\n",
      " [ 57 246]]\n",
      "0    549\n",
      "1    342\n",
      "Name: Survived, dtype: int64\n"
     ]
    },
    {
     "data": {
      "text/plain": [
       "<matplotlib.image.AxesImage at 0x1a1f32704f0>"
      ]
     },
     "execution_count": 20,
     "metadata": {},
     "output_type": "execute_result"
    },
    {
     "data": {
      "image/png": "[encoded data removed]",
      "text/plain": [
       "<Figure size 480x480 with 1 Axes>"
      ]
     },
     "metadata": {},
     "output_type": "display_data"
    }
   ],
   "source": [
    "# Visualizing the accuracy with a confusion matrix\n",
    "import numpy as np\n",
    "from sklearn.metrics import confusion_matrix\n",
    "\n",
    "true_values = train_data[\"Survived\"].to_numpy()\n",
    "plot_confusion_matrix = confusion_matrix(predictions_train, true_values)\n",
    "print(plot_confusion_matrix)\n",
    "\n",
    "print(train_data[\"Survived\"].value_counts())\n",
    "\n",
    "plt.matshow(plot_confusion_matrix, cmap=plt.cm.gray)\n",
    "\n",
    "# Note: in the training data, very few samples get classified incorrectly\n",
    "\n",
    "# Precision: TP / (TP + FP) = 246 / (246+96) = 71.9% -> credibility of a claim that a passenger survived\n",
    "# Recall: TP / (TP + FN) = 246 / (246+57) = 81.2% -> the ability to detect which passengers survived"
   ]
  },
  {
   "cell_type": "code",
   "execution_count": 21,
   "id": "89a9912b",
   "metadata": {},
   "outputs": [
    {
     "name": "stdout",
     "output_type": "stream",
     "text": [
      "[[0.83673469 0.16326531]\n",
      " [0.18811881 0.81188119]]\n"
     ]
    },
    {
     "data": {
      "text/plain": [
       "<matplotlib.image.AxesImage at 0x1a1f32c01f0>"
      ]
     },
     "execution_count": 21,
     "metadata": {},
     "output_type": "execute_result"
    },
    {
     "data": {
      "image/png": "[encoded data removed]",
      "text/plain": [
       "<Figure size 480x480 with 1 Axes>"
      ]
     },
     "metadata": {},
     "output_type": "display_data"
    }
   ],
   "source": [
    "# Normalizing the values above by dividing each value in the confusion matrix by the number of passengers in each class\n",
    "\n",
    "sums = plot_confusion_matrix.sum(axis=1, keepdims=True)\n",
    "normalized = plot_confusion_matrix / sums\n",
    "print(normalized)\n",
    "\n",
    "plt.matshow(normalized, cmap=plt.cm.gray)\n",
    "\n",
    "# With the normalized confusion matrix, we see that the model classifies most passengers into the correct category."
   ]
  },
  {
   "cell_type": "code",
   "execution_count": 22,
   "id": "b5e520d2",
   "metadata": {},
   "outputs": [
    {
     "name": "stdout",
     "output_type": "stream",
     "text": [
      "The prediction is 82.04% accurate on the training set.\n",
      "Your submission was successfully saved!\n"
     ]
    }
   ],
   "source": [
    "# using random thresholds for each feature rather than searching for the best possible thresholds (like decision trees)\n",
    "from sklearn.ensemble import ExtraTreesClassifier\n",
    "\n",
    "#extratrees = ExtraTreesClassifier(random_state=42)\n",
    "extratrees = ExtraTreesClassifier(max_depth=5, max_features=2, n_estimators=150, random_state=10)   # random_state for reproducible results\n",
    "extratrees.fit(X, y)  \n",
    "\n",
    "extratrees_train = extratrees.predict(X) \n",
    "extratrees_test = extratrees.predict(X_test)\n",
    "\n",
    "# checking the accuracy on the training set of the random forest model\n",
    "counter = 0\n",
    "for i in range(len(train_data)):\n",
    "    if train_data[\"Survived\"][i] == extratrees_train[i]:\n",
    "        counter += 1\n",
    "\n",
    "accuracy = counter / len(train_data)\n",
    "\n",
    "print(\"The prediction is %.2f%% accurate on the training set.\" % (accuracy*100))\n",
    "\n",
    "output = pd.DataFrame({'PassengerId': test_data.PassengerId, 'Survived': predictions})  # We only want two columns: PassengerID and Survived\n",
    "output.to_csv('submission_extratrees.csv', index=False) \n",
    "print(\"Your submission was successfully saved!\")"
   ]
  },
  {
   "cell_type": "code",
   "execution_count": 23,
   "id": "01a9d6d6",
   "metadata": {},
   "outputs": [
    {
     "name": "stdout",
     "output_type": "stream",
     "text": [
      "RandomForestClassifier 0.8282828282828283\n",
      "ExtraTreesClassifier 0.8204264870931538\n",
      "StackingClassifier 0.8260381593714927\n",
      "Your submission was successfully saved!\n"
     ]
    }
   ],
   "source": [
    "# 78.229% accurate with the test set\n",
    "from sklearn.ensemble import StackingClassifier\n",
    "from sklearn.linear_model import LogisticRegression\n",
    "from sklearn.metrics import accuracy_score\n",
    "\n",
    "forest = RandomForestClassifier(max_depth=4, max_features=2, min_samples_leaf=3, n_estimators=100, random_state=10)   # random_state for reproducible results \n",
    "\n",
    "estimators = [(\"forest\", forest), (\"extratrees\", extratrees)]\n",
    "clf = StackingClassifier(\n",
    "     estimators=estimators, final_estimator=LogisticRegression(max_iter=10000))\n",
    "\n",
    "clf.fit(X,y)\n",
    "stacking_predict = clf.predict(X)\n",
    "stacking_test = clf.predict(X_test)\n",
    "\n",
    "for model in (forest, extratrees, clf):\n",
    "    model.fit(X,y)\n",
    "    prediction_train = model.predict(X)\n",
    "    prediction_test = model.predict(X_test) \n",
    "    print(model.__class__.__name__, accuracy_score(y, prediction_train))\n",
    "    \n",
    "output = pd.DataFrame({'PassengerId': test_data.PassengerId, 'Survived': stacking_test})  \n",
    "output.to_csv('submission_stacking.csv', index=False) \n",
    "print(\"Your submission was successfully saved!\")"
   ]
  },
  {
   "cell_type": "code",
   "execution_count": null,
   "id": "35ecfe24",
   "metadata": {},
   "outputs": [],
   "source": []
  }
 ],
 "metadata": {
  "kernelspec": {
   "display_name": "Python 3 (ipykernel)",
   "language": "python",
   "name": "python3"
  },
  "language_info": {
   "codemirror_mode": {
    "name": "ipython",
    "version": 3
   },
   "file_extension": ".py",
   "mimetype": "text/x-python",
   "name": "python",
   "nbconvert_exporter": "python",
   "pygments_lexer": "ipython3",
   "version": "3.8.8"
  }
 },
 "nbformat": 4,
 "nbformat_minor": 5
}
